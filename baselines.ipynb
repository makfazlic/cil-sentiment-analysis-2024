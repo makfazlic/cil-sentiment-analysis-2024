{
 "cells": [
  {
   "cell_type": "code",
   "id": "initial_id",
   "metadata": {
    "collapsed": true,
    "ExecuteTime": {
     "end_time": "2024-07-29T14:46:27.140540Z",
     "start_time": "2024-07-29T14:46:27.136101Z"
    }
   },
   "source": [
    "import json\n",
    "import os\n",
    "\n",
    "import matplotlib.pyplot as plt\n",
    "import numpy as np\n",
    "import pandas as pd\n",
    "import torch\n",
    "from sklearn import linear_model\n",
    "from sklearn.feature_extraction.text import CountVectorizer\n",
    "from sklearn.model_selection import train_test_split\n",
    "from tqdm import tqdm\n",
    "from transformers import AutoTokenizer, AutoModel"
   ],
   "outputs": [],
   "execution_count": 21
  },
  {
   "metadata": {
    "ExecuteTime": {
     "end_time": "2024-07-29T14:46:27.154377Z",
     "start_time": "2024-07-29T14:46:27.144534Z"
    }
   },
   "cell_type": "code",
   "source": [
    "class Embedding:\n",
    "    def __init__(self):\n",
    "        self.name = \"Base Embedding\"\n",
    "\n",
    "    def fit(self, tweets):\n",
    "        pass\n",
    "\n",
    "    def encode(self, tweets, name=\"\"):\n",
    "        return tweets\n",
    "\n",
    "    def __repr__(self):\n",
    "        return f\"{self.name}\"\n",
    "\n",
    "\n",
    "class BagOfWords(Embedding):\n",
    "    def __init__(self, max_features=5000):\n",
    "        super().__init__()\n",
    "        self.name = f\"Bag of Words ({max_features})\"\n",
    "        self.vectorizer = CountVectorizer(max_features=max_features)\n",
    "\n",
    "    def fit(self, tweets):\n",
    "        self.vectorizer.fit(tweets)\n",
    "\n",
    "    def encode(self, tweets, name=\"\"):\n",
    "        return self.vectorizer.transform(tweets)\n",
    "\n",
    "\n",
    "class RobertaBaseSentimentEmbedding(Embedding):\n",
    "    def __init__(self, load_embeddings=False):\n",
    "        super().__init__()\n",
    "        self.name = \"Roberta Base Sentiment\"\n",
    "        self.device = torch.device(\"cuda:0\" if torch.cuda.is_available() else \"cpu\")\n",
    "        self.tokenizer = AutoTokenizer.from_pretrained(\"cardiffnlp/twitter-roberta-base-sentiment\")\n",
    "        self.model = AutoModel.from_pretrained(\"cardiffnlp/twitter-roberta-base-sentiment\", torch_dtype=torch.float16).to(self.device)\n",
    "        # self.model.save_pretrained(\"./models/\")\n",
    "        self.load_embeddings = load_embeddings\n",
    "        self.embeddings_file = f\"embeddings_{self.name.lower().replace(' ', '_')}.npy\"\n",
    "\n",
    "    def encode(self, tweets, name=\"\"):\n",
    "        if self.load_embeddings:\n",
    "            try:\n",
    "                return np.load(name + \"_\" + self.embeddings_file)\n",
    "            except FileNotFoundError:\n",
    "                print(\"Embeddings file not found. Making new embeddings instead.\")\n",
    "\n",
    "        return self.make_embeddings(tweets, name)\n",
    "\n",
    "    def make_embeddings(self, tweets, name):\n",
    "        embeddings = []\n",
    "        with torch.no_grad():\n",
    "            for text in tqdm(tweets, desc=f\"Encoding {name}\"):\n",
    "                tokens = self.tokenizer(text, padding=True, return_tensors='pt').to(self.device)\n",
    "                embedding = self.model(**tokens).last_hidden_state[:, 0, :].cpu().detach().numpy().astype(np.float32)\n",
    "                embeddings.append(embedding)\n",
    "        np.save(name + \"_\" + self.embeddings_file, np.vstack(embeddings))\n",
    "        return np.vstack(embeddings)"
   ],
   "id": "462a27c90a71221a",
   "outputs": [],
   "execution_count": 22
  },
  {
   "metadata": {
    "ExecuteTime": {
     "end_time": "2024-07-29T14:46:27.168106Z",
     "start_time": "2024-07-29T14:46:27.155372Z"
    }
   },
   "cell_type": "code",
   "source": [
    "class Model:\n",
    "    def __init__(self):\n",
    "        self.name = \"Base Model\"\n",
    "\n",
    "    def train(self, features, labels):\n",
    "        pass\n",
    "\n",
    "    def predict(self, features):\n",
    "        pass\n",
    "\n",
    "    def __repr__(self):\n",
    "        return f\"{self.name}\"\n",
    "\n",
    "\n",
    "class RandomPredictor(Model):\n",
    "    def __init__(self):\n",
    "        super().__init__()\n",
    "        self.name = \"Random Predictor\"\n",
    "\n",
    "    def train(self, features, labels):\n",
    "        super().train(features, labels)\n",
    "\n",
    "    def predict(self, features):\n",
    "        super().predict(features)\n",
    "        return np.random.choice([1, -1], size=features.shape[0])\n",
    "\n",
    "\n",
    "class LinearRegression(Model):\n",
    "    def __init__(self):\n",
    "        super().__init__()\n",
    "        self.name = f\"Linear Regression\"\n",
    "        self.model = linear_model.LinearRegression()\n",
    "\n",
    "    def train(self, features, labels):\n",
    "        super().train(features, labels)\n",
    "        self.model.fit(features, labels)\n",
    "\n",
    "    def predict(self, features):\n",
    "        super().predict(features)\n",
    "        y_pred = self.model.predict(features)\n",
    "        y_pred[y_pred >= 0] = 1\n",
    "        y_pred[y_pred < 0] = -1\n",
    "        return y_pred\n",
    "\n",
    "\n",
    "class LogisticRegression(LinearRegression):\n",
    "    def __init__(self):\n",
    "        super().__init__()\n",
    "        self.name = f\"Logistic Regression\"\n",
    "        self.model = linear_model.LogisticRegression(C=1e5, max_iter=10000)\n",
    "\n",
    "\n",
    "class RidgeRegression(LinearRegression):\n",
    "    def __init__(self, alpha=1.0):\n",
    "        super().__init__()\n",
    "        self.name = f\"Ridge Regression\"\n",
    "        self.alpha = alpha\n",
    "        self.model = linear_model.Ridge(self.alpha, max_iter=10000)\n",
    "\n",
    "    def __repr__(self):\n",
    "        return f\"{self.name} ({self.alpha})\"\n",
    "\n",
    "\n",
    "class LassoRegression(LinearRegression):\n",
    "    def __init__(self, alpha=1.0):\n",
    "        super().__init__()\n",
    "        self.name = f\"Lasso Regression\"\n",
    "        self.alpha = alpha\n",
    "        self.model = linear_model.Lasso(self.alpha, max_iter=10000)\n",
    "\n",
    "    def __repr__(self):\n",
    "        return f\"{self.name} ({self.alpha})\"\n",
    "\n",
    "\n",
    "def choose_ridge_lasso_hyper_parameters(model_cls, features, labels, min_alpha_pow=-5, max_alpha_pow=5, fraction=0.9):\n",
    "    split_idx = int(fraction * features.shape[0])\n",
    "\n",
    "    best_accuracy = (1.0, 0.5)\n",
    "    for alpha_pow in tqdm(range(min_alpha_pow, max_alpha_pow), desc=f\"Choosing hyper parameter...\"):\n",
    "        alpha = 10 ** alpha_pow\n",
    "        model = model_cls(alpha=alpha)\n",
    "        model.train(features[:split_idx], labels[:split_idx])\n",
    "        predicted = model.predict(features[split_idx:])\n",
    "        accuracy = (predicted == labels[split_idx:]).mean()\n",
    "        if accuracy > best_accuracy[-1]:\n",
    "            best_accuracy = (model.alpha, accuracy)\n",
    "\n",
    "    return model_cls(alpha=best_accuracy[0])"
   ],
   "id": "5d77ce080cd11f3b",
   "outputs": [],
   "execution_count": 23
  },
  {
   "metadata": {
    "ExecuteTime": {
     "end_time": "2024-07-29T14:46:27.172648Z",
     "start_time": "2024-07-29T14:46:27.169100Z"
    }
   },
   "cell_type": "code",
   "source": [
    "RANDOM_SEED = 42\n",
    "DATA_FOLDER = \"data/\"\n",
    "TRAIN_NEG_FILE = DATA_FOLDER + \"train_neg_full.txt\"\n",
    "TRAIN_POS_FILE = DATA_FOLDER + \"train_pos_full.txt\"\n",
    "MAX_DATA_SIZE = 200000\n",
    "NUMBER_OF_STEPS = 20"
   ],
   "id": "6117b3142096302f",
   "outputs": [],
   "execution_count": 24
  },
  {
   "metadata": {
    "ExecuteTime": {
     "end_time": "2024-07-29T14:46:27.181759Z",
     "start_time": "2024-07-29T14:46:27.174645Z"
    }
   },
   "cell_type": "code",
   "source": [
    "def create_dataset(neg_tweets_file, pos_tweets_file):\n",
    "    tweets = []\n",
    "    labels = []\n",
    "    with open(neg_tweets_file, \"r\", encoding=\"utf-8\") as f:\n",
    "        for line in f:\n",
    "            tweets.append(line.rstrip())\n",
    "            labels.append(-1)\n",
    "    with open(pos_tweets_file, \"r\", encoding=\"utf-8\") as f:\n",
    "        for line in f:\n",
    "            tweets.append(line.rstrip())\n",
    "            labels.append(1)\n",
    "    df = pd.DataFrame({\"tweet\": tweets, \"label\": labels})\n",
    "    df = df.drop_duplicates(subset=[\"tweet\", \"label\"])\n",
    "    return df\n",
    "\n",
    "def split_dataset(dataset, test_fraction, seed=RANDOM_SEED):\n",
    "    shuffled_dataset = dataset.sample(frac=1, random_state=seed).reset_index(drop=True)\n",
    "    train_df, test_df = train_test_split(shuffled_dataset, test_size=test_fraction, random_state=seed)\n",
    "    return train_df, test_df\n",
    "\n",
    "def get_data(embedding):\n",
    "    print(\"Preparing data...\")\n",
    "    dataset = create_dataset(TRAIN_NEG_FILE, TRAIN_POS_FILE)\n",
    "    train_data, test_data = split_dataset(dataset, 0.1, seed=RANDOM_SEED)\n",
    "    train_labels = train_data[\"label\"].to_numpy()\n",
    "    test_labels = test_data[\"label\"].to_numpy()\n",
    "\n",
    "    print(\"Getting embedding...\")\n",
    "    embedding.fit(train_data[\"tweet\"].to_numpy())\n",
    "    train_tweets = embedding.encode(train_data[\"tweet\"].to_numpy(), \"train_tweets\")\n",
    "    test_tweets = embedding.encode(test_data[\"tweet\"].to_numpy(), \"test_tweets\")\n",
    "\n",
    "    return train_tweets, train_labels, test_tweets, test_labels"
   ],
   "id": "a12ea63179a6a57c",
   "outputs": [],
   "execution_count": 25
  },
  {
   "metadata": {
    "ExecuteTime": {
     "end_time": "2024-07-29T14:46:27.186251Z",
     "start_time": "2024-07-29T14:46:27.182754Z"
    }
   },
   "cell_type": "code",
   "source": [
    "def evaluate_accuracy(predicted, actual):\n",
    "    assert predicted.shape == actual.shape\n",
    "    return (predicted == actual).mean()"
   ],
   "id": "6285d0564fef9446",
   "outputs": [],
   "execution_count": 26
  },
  {
   "metadata": {
    "ExecuteTime": {
     "end_time": "2024-07-29T14:46:27.195162Z",
     "start_time": "2024-07-29T14:46:27.186761Z"
    }
   },
   "cell_type": "code",
   "source": [
    "def make_learning_curves(model, train_tweets, train_labels, test_tweets, test_labels, title):\n",
    "    training_size_max = MAX_DATA_SIZE\n",
    "    step_size = int(MAX_DATA_SIZE / NUMBER_OF_STEPS)\n",
    "    training_size_min = step_size\n",
    "    dataset_sizes = np.arange(training_size_min, training_size_max, step_size)\n",
    "\n",
    "    train_accuracy = []\n",
    "    test_accuracy = []\n",
    "\n",
    "    for train_size in tqdm(dataset_sizes, desc=f\"Making learning curves...\"):\n",
    "        model.train(train_tweets[:train_size], train_labels[:train_size])\n",
    "        train_pred = model.predict(train_tweets)\n",
    "        test_pred = model.predict(test_tweets)\n",
    "        train_accuracy.append(evaluate_accuracy(train_pred, train_labels))\n",
    "        test_accuracy.append(evaluate_accuracy(test_pred, test_labels))\n",
    "\n",
    "    plot_learning_curves(train_accuracy, test_accuracy, dataset_sizes, title)\n",
    "    save_results(title, test_accuracy)\n",
    "\n",
    "\n",
    "def save_results(folder_name, accuracy):\n",
    "    filename = f\"./cluster_model/results/{folder_name}/loss_eval_data.json\"\n",
    "    os.makedirs(os.path.dirname(filename), exist_ok=True)\n",
    "    results = [[[None, a] for a in accuracy]]\n",
    "    with open(filename, \"w\") as f:\n",
    "        json.dump(results, f)\n",
    "\n",
    "\n",
    "def plot_learning_curves(train_accuracy, test_accuracy, dataset_sizes, title):\n",
    "    plt.figure()\n",
    "    plt.plot(dataset_sizes, train_accuracy, 'r--', label=\"Training Accuracy\")\n",
    "    plt.plot(dataset_sizes, test_accuracy, 'b-', label=\"Test Accuracy\")\n",
    "    plt.ylim([0.4, 1])\n",
    "    plt.yticks(np.arange(0.4, 1.1, 0.1))\n",
    "    plt.grid(True)\n",
    "    plt.xlabel(\"Dataset Size\")\n",
    "    plt.ylabel(\"Accuracy\")\n",
    "    plt.title(f\"{title}\")\n",
    "    plt.legend()\n",
    "    plt.show()"
   ],
   "id": "2e5a878608e11ca4",
   "outputs": [],
   "execution_count": 27
  },
  {
   "metadata": {
    "ExecuteTime": {
     "end_time": "2024-07-29T14:46:27.200490Z",
     "start_time": "2024-07-29T14:46:27.196157Z"
    }
   },
   "cell_type": "code",
   "source": [
    "def evaluate_baseline(embedding, model):\n",
    "    train_tweets, train_labels, test_tweets, test_labels = get_data(embedding)\n",
    "\n",
    "    print(f\"Training {model} with {embedding}...\")\n",
    "    make_learning_curves(model, train_tweets, train_labels, test_tweets, test_labels, title=f\"{model} with {embedding}\")\n",
    "    return evaluate_accuracy(model.predict(test_tweets), test_labels)"
   ],
   "id": "718a381039eab935",
   "outputs": [],
   "execution_count": 28
  },
  {
   "metadata": {
    "ExecuteTime": {
     "end_time": "2024-07-29T14:51:32.999173Z",
     "start_time": "2024-07-29T14:46:27.201483Z"
    }
   },
   "cell_type": "code",
   "source": [
    "np.random.seed(RANDOM_SEED)\n",
    "\n",
    "print(\"Bag of Words baseline:\")\n",
    "embedding = BagOfWords()\n",
    "model = LogisticRegression()\n",
    "final_accuracy = evaluate_baseline(embedding, model)\n",
    "print(f\"Final accuracy: {final_accuracy}\")"
   ],
   "id": "2b232c5c34d2a4da",
   "outputs": [
    {
     "name": "stdout",
     "output_type": "stream",
     "text": [
      "Bag of Words baseline:\n",
      "Preparing data...\n",
      "Getting embedding...\n",
      "Training Logistic Regression with Bag of Words (5000)...\n"
     ]
    },
    {
     "name": "stderr",
     "output_type": "stream",
     "text": [
      "Making learning curves...: 100%|██████████| 19/19 [04:10<00:00, 13.20s/it]\n"
     ]
    },
    {
     "data": {
      "text/plain": [
       "<Figure size 640x480 with 1 Axes>"
      ],
      "image/png": "[encoded data removed]"
     },
     "metadata": {},
     "output_type": "display_data"
    },
    {
     "name": "stdout",
     "output_type": "stream",
     "text": [
      "Final accuracy: 0.7892789662143413\n"
     ]
    }
   ],
   "execution_count": 29
  },
  {
   "metadata": {
    "ExecuteTime": {
     "end_time": "2024-07-29T14:51:33.004268Z",
     "start_time": "2024-07-29T14:51:33.001168Z"
    }
   },
   "cell_type": "code",
   "source": [
    "# print(\"Roberta baseline:\")\n",
    "# embedding = RobertaBaseSentimentEmbedding(load_embeddings=True)\n",
    "# model = LogisticRegression()\n",
    "# final_accuracy = evaluate_baseline(embedding, model)\n",
    "# print(f\"Final accuracy: {final_accuracy}\")"
   ],
   "id": "122ef76451c00b29",
   "outputs": [],
   "execution_count": 30
  }
 ],
 "metadata": {
  "kernelspec": {
   "display_name": "Python 3",
   "language": "python",
   "name": "python3"
  },
  "language_info": {
   "codemirror_mode": {
    "name": "ipython",
    "version": 2
   },
   "file_extension": ".py",
   "mimetype": "text/x-python",
   "name": "python",
   "nbconvert_exporter": "python",
   "pygments_lexer": "ipython2",
   "version": "2.7.6"
  }
 },
 "nbformat": 4,
 "nbformat_minor": 5
}
